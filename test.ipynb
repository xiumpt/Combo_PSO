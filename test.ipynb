{
 "cells": [
  {
   "cell_type": "code",
   "execution_count": 5,
   "metadata": {},
   "outputs": [],
   "source": [
    "import pandas as pd\n",
    "from pandas import DataFrame\n",
    "import matplotlib.pyplot as plt\n",
    "import numpy as np\n",
    "import random\n",
    "\n",
    "df = pd.read_excel('data_random_1.xlsx').iloc[:,1:]\n",
    "df = df.iloc[:,[0,3,4]]\n",
    "pl_1 = df.iloc[:, 0]\n",
    "pl_4 = df.iloc[:, 1]\n",
    "score = df.iloc[:, 2]\n"
   ]
  },
  {
   "cell_type": "code",
   "execution_count": 6,
   "metadata": {},
   "outputs": [
    {
     "name": "stdout",
     "output_type": "stream",
     "text": [
      "Vid_pl1: 0  Vid_pl4: 0\n",
      "Xid_pl1: 0  Xid_pl4: 0\n",
      "New_Vid_pl1: 83.39  New_Vid_pl4: 132.73\n",
      "New_Xid_pl1: 83.39  New_Xid_pl4: 132.73\n",
      "\n",
      "Vid_pl1: 83.39  Vid_pl4: 132.73\n",
      "Xid_pl1: 83.39  Xid_pl4: 132.73\n",
      "New_Vid_pl1: 288.9  New_Vid_pl4: 189.25\n",
      "New_Xid_pl1: 372.28  New_Xid_pl4: 321.98\n",
      "\n",
      "Vid_pl1: 288.9  Vid_pl4: 189.25\n",
      "Xid_pl1: 372.28  Xid_pl4: 321.98\n",
      "New_Vid_pl1: -73.48  New_Vid_pl4: -83.02\n",
      "New_Xid_pl1: 298.8  New_Xid_pl4: 238.96\n",
      "\n",
      "Vid_pl1: -73.48  Vid_pl4: -83.02\n",
      "Xid_pl1: 298.8  Xid_pl4: 238.96\n",
      "New_Vid_pl1: -263.02  New_Vid_pl4: -187.91\n",
      "New_Xid_pl1: 35.78  New_Xid_pl4: 51.05\n",
      "\n",
      "Vid_pl1: -263.02  Vid_pl4: -187.91\n",
      "Xid_pl1: 35.78  Xid_pl4: 51.05\n",
      "New_Vid_pl1: -197.69  New_Vid_pl4: -99.67\n",
      "New_Xid_pl1: -161.92  New_Xid_pl4: -48.62\n",
      "\n",
      "PL_1: [83.39, 372.28, 298.8, 35.78, -161.92]\n",
      "PL_4: [132.73, 321.98, 238.96, 51.05, -48.62]\n"
     ]
    }
   ],
   "source": [
    "w = 1\n",
    "c1 = 1\n",
    "c2 = 2\n",
    "pbest_pl1 = pl_1\n",
    "pbest_pl4 = pl_4\n",
    "gbest = df.loc[df['3dmarkscore'].idxmax()]\n",
    "gbest_pl1 = gbest[0]\n",
    "gbest_pl4 = gbest[1]\n",
    "#print(pbest_pl1)\n",
    "\n",
    "# new_vid = w * vid + c1 * rnd() * (pbest_xid - xid)  + c2 * rnd() * (gbest_xd-xid)\n",
    "# new_xid = xid + new_vid\n",
    "\n",
    "xid_save_pl1 = []\n",
    "xid_save_pl4 = []\n",
    "New_Vid_pl1 = 0\n",
    "New_Vid_pl4 = 0\n",
    "New_Xid_pl1 = 0\n",
    "New_Xid_pl4 = 0\n",
    "\n",
    "for i in range(5):\n",
    "    R1 = random.uniform(0,1)\n",
    "    R2 = random.uniform(0,1)\n",
    "    \n",
    "    Xid_pl1 = New_Xid_pl1\n",
    "    Xid_pl4 = New_Xid_pl4\n",
    "    Vid_pl1 = New_Vid_pl1\n",
    "    Vid_pl4 = New_Vid_pl4\n",
    "    #print(Xid_pl1)\n",
    "    \n",
    "    New_Vid_pl1 = w*Vid_pl1 + c1*R1*(pbest_pl1[i]- Xid_pl1) + c2*R2*(gbest_pl1 - Xid_pl1)\n",
    "    New_Vid_pl4 = w*Vid_pl4 + c1*R1*(pbest_pl4[i] - Xid_pl4) + c2*R2*(gbest_pl4 - Xid_pl4)\n",
    "    New_Xid_pl1 = Xid_pl1 + New_Vid_pl1\n",
    "    New_Xid_pl4 = Xid_pl4 + New_Vid_pl4\n",
    "    #print(pbest_pl1[i])\n",
    "    xid_save_pl1.append(New_Xid_pl1)\n",
    "    xid_save_pl4.append(New_Xid_pl4)\n",
    "           \n",
    "    print('Vid_pl1:', round(Vid_pl1, 2), ' Vid_pl4:', round(Vid_pl4, 2))\n",
    "    print('Xid_pl1:', round(Xid_pl1, 2), ' Xid_pl4:',round(Xid_pl4, 2))\n",
    "    print('New_Vid_pl1:', round(New_Vid_pl1, 2), ' New_Vid_pl4:', round(New_Vid_pl4, 2))    \n",
    "    print('New_Xid_pl1:', round(New_Xid_pl1, 2), ' New_Xid_pl4:', round(New_Xid_pl4, 2))\n",
    "    print('')\n",
    "\n",
    "xid_save_pl1 = list(np.around(np.array(xid_save_pl1),2))\n",
    "xid_save_pl4 = list(np.around(np.array(xid_save_pl4),2))\n",
    "print('PL_1:', xid_save_pl1)\n",
    "print('PL_4:', xid_save_pl4)"
   ]
  },
  {
   "cell_type": "code",
   "execution_count": null,
   "metadata": {},
   "outputs": [],
   "source": []
  }
 ],
 "metadata": {
  "kernelspec": {
   "display_name": "Python 3",
   "language": "python",
   "name": "python3"
  },
  "language_info": {
   "codemirror_mode": {
    "name": "ipython",
    "version": 3
   },
   "file_extension": ".py",
   "mimetype": "text/x-python",
   "name": "python",
   "nbconvert_exporter": "python",
   "pygments_lexer": "ipython3",
   "version": "3.6.8"
  }
 },
 "nbformat": 4,
 "nbformat_minor": 2
}
